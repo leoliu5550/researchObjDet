{
 "cells": [
  {
   "cell_type": "markdown",
   "metadata": {},
   "source": [
    "# Visualization of functions"
   ]
  },
  {
   "cell_type": "code",
   "execution_count": 52,
   "metadata": {},
   "outputs": [],
   "source": [
    "WEIGHT = 10\n",
    "D_MODEL = 8"
   ]
  },
  {
   "cell_type": "code",
   "execution_count": 53,
   "metadata": {},
   "outputs": [
    {
     "data": {
      "text/plain": [
       "1.333521432163324"
      ]
     },
     "execution_count": 53,
     "metadata": {},
     "output_type": "execute_result"
    }
   ],
   "source": [
    "WEIGHT**(1/D_MODEL)"
   ]
  },
  {
   "cell_type": "markdown",
   "metadata": {},
   "source": [
    "## postition encoding"
   ]
  },
  {
   "cell_type": "code",
   "execution_count": 15,
   "metadata": {},
   "outputs": [],
   "source": [
    "import numpy as np\n",
    "import torch\n",
    "import torch.nn as nn\n",
    "import math\n",
    "import matplotlib.pyplot as plt\n",
    "%matplotlib inline"
   ]
  },
  {
   "cell_type": "code",
   "execution_count": 63,
   "metadata": {},
   "outputs": [],
   "source": [
    "def position_encoding(t):\n",
    "    result = []\n",
    "    \n",
    "    for i in range(D_MODEL//2):\n",
    "        we = 1/(WEIGHT**(2*i/D_MODEL))\n",
    "        result.append(math.sin(we*t))\n",
    "        result.append(math.cos(we*t))\n",
    "\n",
    "    return result"
   ]
  },
  {
   "cell_type": "code",
   "execution_count": 64,
   "metadata": {},
   "outputs": [
    {
     "data": {
      "text/plain": [
       "[0.0, 1.0, 0.0, 1.0, 0.0, 1.0, 0.0, 1.0]"
      ]
     },
     "execution_count": 64,
     "metadata": {},
     "output_type": "execute_result"
    }
   ],
   "source": [
    "position_encoding(0)"
   ]
  },
  {
   "cell_type": "code",
   "execution_count": 66,
   "metadata": {},
   "outputs": [
    {
     "data": {
      "text/plain": [
       "[array([[3]]), array([[4]])]"
      ]
     },
     "execution_count": 66,
     "metadata": {},
     "output_type": "execute_result"
    }
   ],
   "source": [
    "np.meshgrid(3, D_MODEL//2)"
   ]
  },
  {
   "cell_type": "code",
   "execution_count": 37,
   "metadata": {},
   "outputs": [
    {
     "data": {
      "text/plain": [
       "tensor([[[[0., 0., 0., 0., 0.],\n",
       "          [0., 0., 0., 0., 0.],\n",
       "          [0., 0., 0., 0., 0.],\n",
       "          [0., 0., 0., 0., 0.]]]])"
      ]
     },
     "execution_count": 37,
     "metadata": {},
     "output_type": "execute_result"
    }
   ],
   "source": [
    "# pe[:, 0::2]\n",
    "pe = torch.zeros([1,1,4,5])\n",
    "pe"
   ]
  },
  {
   "cell_type": "code",
   "execution_count": 38,
   "metadata": {},
   "outputs": [
    {
     "name": "stdout",
     "output_type": "stream",
     "text": [
      "tensor([[[[1., 0., 1., 0., 1.],\n",
      "          [1., 0., 1., 0., 1.],\n",
      "          [1., 0., 1., 0., 1.],\n",
      "          [1., 0., 1., 0., 1.]]]])\n"
     ]
    }
   ],
   "source": [
    "pe[..., 0::2] = torch.ones(pe[..., 0::2].shape)\n",
    "print(pe)"
   ]
  },
  {
   "cell_type": "code",
   "execution_count": 39,
   "metadata": {},
   "outputs": [
    {
     "name": "stdout",
     "output_type": "stream",
     "text": [
      "tensor([[[[0., 1., 0., 1., 0.],\n",
      "          [0., 1., 0., 1., 0.],\n",
      "          [0., 1., 0., 1., 0.],\n",
      "          [0., 1., 0., 1., 0.]]]])\n"
     ]
    }
   ],
   "source": [
    "pe = torch.zeros([1,1,4,5])\n",
    "pe[..., 1::2] = torch.ones(pe[..., 1::2].shape)\n",
    "print(pe)"
   ]
  },
  {
   "cell_type": "code",
   "execution_count": 65,
   "metadata": {},
   "outputs": [],
   "source": [
    "class PositionEmbeddingSine(nn.Module):\n",
    "    def __init__(self,d_model,max_rows = 5000,weight = 10000.0) -> None:\n",
    "        super().__init__()\n",
    "        position = torch.zeros(max_rows,d_model)\n",
    "        pe = torch.arange(0, max_rows, dtype=torch.float).unsqueeze(1)\n",
    "        div_term = torch.exp(torch.arange(0,d_model,2).float()*(-math.log(weight)/d_model))\n",
    "        position[..., 0::2] = torch.sin(pe * div_term)\n",
    "        position[..., 1::2] = torch.cos(pe * div_term)\n",
    "        position = position.unsqueeze(0)\n",
    "        # .transpose(0, 1)\n",
    "        self.register_buffer('position', position)\n",
    "    \n",
    "    def forward(self,x):\n",
    "        print(x.shape)\n",
    "        x = x + self.position[:,:x.size(1),:]\n",
    "        return x"
   ]
  },
  {
   "cell_type": "code",
   "execution_count": 67,
   "metadata": {},
   "outputs": [
    {
     "name": "stdout",
     "output_type": "stream",
     "text": [
      "torch.Size([5000, 6])\n",
      "torch.Size([5000, 1])\n",
      "torch.Size([3])\n",
      "tensor([[0.0000e+00, 0.0000e+00, 0.0000e+00],\n",
      "        [1.0000e+00, 4.6416e-02, 2.1544e-03],\n",
      "        [2.0000e+00, 9.2832e-02, 4.3089e-03],\n",
      "        ...,\n",
      "        [4.9970e+03, 2.3194e+02, 1.0766e+01],\n",
      "        [4.9980e+03, 2.3199e+02, 1.0768e+01],\n",
      "        [4.9990e+03, 2.3203e+02, 1.0770e+01]])\n",
      "torch.Size([9, 3, 6])\n",
      "torch.Size([9, 3, 6])\n"
     ]
    }
   ],
   "source": [
    "# batch,rows,d_model\n",
    "model = PositionEmbeddingSine(6)\n",
    "x = torch.ones([9,3,6])\n",
    "print(model(x).shape)"
   ]
  },
  {
   "cell_type": "code",
   "execution_count": null,
   "metadata": {},
   "outputs": [],
   "source": []
  }
 ],
 "metadata": {
  "kernelspec": {
   "display_name": "research",
   "language": "python",
   "name": "python3"
  },
  "language_info": {
   "codemirror_mode": {
    "name": "ipython",
    "version": 3
   },
   "file_extension": ".py",
   "mimetype": "text/x-python",
   "name": "python",
   "nbconvert_exporter": "python",
   "pygments_lexer": "ipython3",
   "version": "3.9.16"
  },
  "orig_nbformat": 4
 },
 "nbformat": 4,
 "nbformat_minor": 2
}
